{
 "cells": [
  {
   "cell_type": "markdown",
   "id": "cb5a945f",
   "metadata": {},
   "source": [
    "# Project: Statistics information about customer reservations"
   ]
  },
  {
   "cell_type": "markdown",
   "id": "003064bd",
   "metadata": {},
   "source": [
    "## Table of Contents\n",
    "<ul>\n",
    "<li><a href=\"#Introduction\">Introduction</a></li>\n",
    "<li><a href=\"#DataWrangling\">Data Wrangling</a></li>\n",
    "<li><a href=\"#ExploratoryDataAnalysis\">Exploratory Data Analysis</a></li>\n",
    "<li><a href=\"#Conclusions\">Conclusions</a></li>\n",
    "</ul>"
   ]
  },
  {
   "cell_type": "markdown",
   "id": "ac2a4a34",
   "metadata": {},
   "source": [
    "## Introduction\n",
    "The work contains several stages that the data goes through to facilitate dealing with it and benefit from it in solving problems and answering the most important questions. In this work, data about Hotel booking were used in the first stage.\n",
    "\n",
    "The data was read from a CSV file that contains 10000 rows and 30 columns.\n",
    "\n",
    "In the second stage, some columns that contained a large lack of information were deleted and were not helpful in the solution. \n",
    "\n",
    "In the third stage, the data was used after processing to answer three main questions and represent them graphically in order to facilitate understanding of the results. \n",
    "###### Throughout this work, we are tring to answer this question by exploring the data set and also the connections among variables:\n",
    "###### and we will answer: \n",
    "1- What type of customer is the most? Is it Transient or Contract or ...?\n",
    "\n",
    "2- How many reservations are from USA?\n",
    "\n",
    "3- What year has the most reservations?"
   ]
  },
  {
   "cell_type": "markdown",
   "id": "4608780a",
   "metadata": {},
   "source": [
    "## Importing the libraries"
   ]
  },
  {
   "cell_type": "code",
   "execution_count": 1,
   "id": "ea8b0b6a",
   "metadata": {},
   "outputs": [],
   "source": [
    "import numpy as np\n",
    "import pandas as pd\n",
    "from sklearn.preprocessing import OneHotEncoder\n",
    "import matplotlib.pyplot as plt"
   ]
  },
  {
   "cell_type": "markdown",
   "id": "9d6edefa",
   "metadata": {},
   "source": [
    "<a id='DataWrangling'></a>\n",
    "## Data Wrangling\n",
    "### General Properties : Read dataset from CSV file"
   ]
  },
  {
   "cell_type": "code",
   "execution_count": 2,
   "id": "c4bbdd49",
   "metadata": {},
   "outputs": [
    {
     "data": {
      "text/html": [
       "<div>\n",
       "<style scoped>\n",
       "    .dataframe tbody tr th:only-of-type {\n",
       "        vertical-align: middle;\n",
       "    }\n",
       "\n",
       "    .dataframe tbody tr th {\n",
       "        vertical-align: top;\n",
       "    }\n",
       "\n",
       "    .dataframe thead th {\n",
       "        text-align: right;\n",
       "    }\n",
       "</style>\n",
       "<table border=\"1\" class=\"dataframe\">\n",
       "  <thead>\n",
       "    <tr style=\"text-align: right;\">\n",
       "      <th></th>\n",
       "      <th>hotel</th>\n",
       "      <th>is_canceled</th>\n",
       "      <th>lead_time</th>\n",
       "      <th>arrival_date_year</th>\n",
       "      <th>arrival_date_month</th>\n",
       "      <th>arrival_date_week_number</th>\n",
       "      <th>arrival_date_day_of_month</th>\n",
       "      <th>stays_in_weekend_nights</th>\n",
       "      <th>stays_in_week_nights</th>\n",
       "      <th>adults</th>\n",
       "      <th>...</th>\n",
       "      <th>deposit_type</th>\n",
       "      <th>agent</th>\n",
       "      <th>company</th>\n",
       "      <th>days_in_waiting_list</th>\n",
       "      <th>customer_type</th>\n",
       "      <th>adr</th>\n",
       "      <th>required_car_parking_spaces</th>\n",
       "      <th>total_of_special_requests</th>\n",
       "      <th>reservation_status</th>\n",
       "      <th>reservation_status_date</th>\n",
       "    </tr>\n",
       "  </thead>\n",
       "  <tbody>\n",
       "    <tr>\n",
       "      <th>0</th>\n",
       "      <td>Resort Hotel</td>\n",
       "      <td>0</td>\n",
       "      <td>342</td>\n",
       "      <td>2015</td>\n",
       "      <td>July</td>\n",
       "      <td>27</td>\n",
       "      <td>1</td>\n",
       "      <td>0</td>\n",
       "      <td>0</td>\n",
       "      <td>2</td>\n",
       "      <td>...</td>\n",
       "      <td>No Deposit</td>\n",
       "      <td>NaN</td>\n",
       "      <td>NaN</td>\n",
       "      <td>0</td>\n",
       "      <td>Transient</td>\n",
       "      <td>0.0</td>\n",
       "      <td>0</td>\n",
       "      <td>0</td>\n",
       "      <td>Check-Out</td>\n",
       "      <td>7/1/2015</td>\n",
       "    </tr>\n",
       "    <tr>\n",
       "      <th>1</th>\n",
       "      <td>Resort Hotel</td>\n",
       "      <td>0</td>\n",
       "      <td>737</td>\n",
       "      <td>2015</td>\n",
       "      <td>July</td>\n",
       "      <td>27</td>\n",
       "      <td>1</td>\n",
       "      <td>0</td>\n",
       "      <td>0</td>\n",
       "      <td>2</td>\n",
       "      <td>...</td>\n",
       "      <td>No Deposit</td>\n",
       "      <td>NaN</td>\n",
       "      <td>NaN</td>\n",
       "      <td>0</td>\n",
       "      <td>Transient</td>\n",
       "      <td>0.0</td>\n",
       "      <td>0</td>\n",
       "      <td>0</td>\n",
       "      <td>Check-Out</td>\n",
       "      <td>7/1/2015</td>\n",
       "    </tr>\n",
       "    <tr>\n",
       "      <th>2</th>\n",
       "      <td>Resort Hotel</td>\n",
       "      <td>0</td>\n",
       "      <td>7</td>\n",
       "      <td>2015</td>\n",
       "      <td>July</td>\n",
       "      <td>27</td>\n",
       "      <td>1</td>\n",
       "      <td>0</td>\n",
       "      <td>1</td>\n",
       "      <td>1</td>\n",
       "      <td>...</td>\n",
       "      <td>No Deposit</td>\n",
       "      <td>NaN</td>\n",
       "      <td>NaN</td>\n",
       "      <td>0</td>\n",
       "      <td>Transient</td>\n",
       "      <td>75.0</td>\n",
       "      <td>0</td>\n",
       "      <td>0</td>\n",
       "      <td>Check-Out</td>\n",
       "      <td>7/2/2015</td>\n",
       "    </tr>\n",
       "    <tr>\n",
       "      <th>3</th>\n",
       "      <td>Resort Hotel</td>\n",
       "      <td>0</td>\n",
       "      <td>13</td>\n",
       "      <td>2015</td>\n",
       "      <td>July</td>\n",
       "      <td>27</td>\n",
       "      <td>1</td>\n",
       "      <td>0</td>\n",
       "      <td>1</td>\n",
       "      <td>1</td>\n",
       "      <td>...</td>\n",
       "      <td>No Deposit</td>\n",
       "      <td>304.0</td>\n",
       "      <td>NaN</td>\n",
       "      <td>0</td>\n",
       "      <td>Transient</td>\n",
       "      <td>75.0</td>\n",
       "      <td>0</td>\n",
       "      <td>0</td>\n",
       "      <td>Check-Out</td>\n",
       "      <td>7/2/2015</td>\n",
       "    </tr>\n",
       "    <tr>\n",
       "      <th>4</th>\n",
       "      <td>Resort Hotel</td>\n",
       "      <td>0</td>\n",
       "      <td>14</td>\n",
       "      <td>2015</td>\n",
       "      <td>July</td>\n",
       "      <td>27</td>\n",
       "      <td>1</td>\n",
       "      <td>0</td>\n",
       "      <td>2</td>\n",
       "      <td>2</td>\n",
       "      <td>...</td>\n",
       "      <td>No Deposit</td>\n",
       "      <td>240.0</td>\n",
       "      <td>NaN</td>\n",
       "      <td>0</td>\n",
       "      <td>Transient</td>\n",
       "      <td>98.0</td>\n",
       "      <td>0</td>\n",
       "      <td>1</td>\n",
       "      <td>Check-Out</td>\n",
       "      <td>7/3/2015</td>\n",
       "    </tr>\n",
       "  </tbody>\n",
       "</table>\n",
       "<p>5 rows × 32 columns</p>\n",
       "</div>"
      ],
      "text/plain": [
       "          hotel  is_canceled  lead_time  arrival_date_year arrival_date_month  \\\n",
       "0  Resort Hotel            0        342               2015               July   \n",
       "1  Resort Hotel            0        737               2015               July   \n",
       "2  Resort Hotel            0          7               2015               July   \n",
       "3  Resort Hotel            0         13               2015               July   \n",
       "4  Resort Hotel            0         14               2015               July   \n",
       "\n",
       "   arrival_date_week_number  arrival_date_day_of_month  \\\n",
       "0                        27                          1   \n",
       "1                        27                          1   \n",
       "2                        27                          1   \n",
       "3                        27                          1   \n",
       "4                        27                          1   \n",
       "\n",
       "   stays_in_weekend_nights  stays_in_week_nights  adults  ...  deposit_type  \\\n",
       "0                        0                     0       2  ...    No Deposit   \n",
       "1                        0                     0       2  ...    No Deposit   \n",
       "2                        0                     1       1  ...    No Deposit   \n",
       "3                        0                     1       1  ...    No Deposit   \n",
       "4                        0                     2       2  ...    No Deposit   \n",
       "\n",
       "   agent company days_in_waiting_list customer_type   adr  \\\n",
       "0    NaN     NaN                    0     Transient   0.0   \n",
       "1    NaN     NaN                    0     Transient   0.0   \n",
       "2    NaN     NaN                    0     Transient  75.0   \n",
       "3  304.0     NaN                    0     Transient  75.0   \n",
       "4  240.0     NaN                    0     Transient  98.0   \n",
       "\n",
       "   required_car_parking_spaces  total_of_special_requests  reservation_status  \\\n",
       "0                            0                          0           Check-Out   \n",
       "1                            0                          0           Check-Out   \n",
       "2                            0                          0           Check-Out   \n",
       "3                            0                          0           Check-Out   \n",
       "4                            0                          1           Check-Out   \n",
       "\n",
       "  reservation_status_date  \n",
       "0                7/1/2015  \n",
       "1                7/1/2015  \n",
       "2                7/2/2015  \n",
       "3                7/2/2015  \n",
       "4                7/3/2015  \n",
       "\n",
       "[5 rows x 32 columns]"
      ]
     },
     "execution_count": 2,
     "metadata": {},
     "output_type": "execute_result"
    }
   ],
   "source": [
    "dataset = pd.read_csv('hotel_bookings.csv')\n",
    "dataset.head()"
   ]
  },
  {
   "cell_type": "code",
   "execution_count": 3,
   "id": "6890a29a",
   "metadata": {},
   "outputs": [
    {
     "data": {
      "text/plain": [
       "(9999, 32)"
      ]
     },
     "execution_count": 3,
     "metadata": {},
     "output_type": "execute_result"
    }
   ],
   "source": [
    "## we want to know the count of columns and index\n",
    "dataset.shape"
   ]
  },
  {
   "cell_type": "code",
   "execution_count": 4,
   "id": "b05ea8fc",
   "metadata": {},
   "outputs": [
    {
     "data": {
      "text/plain": [
       "hotel                                0\n",
       "is_canceled                          0\n",
       "lead_time                            0\n",
       "arrival_date_year                    0\n",
       "arrival_date_month                   0\n",
       "arrival_date_week_number             0\n",
       "arrival_date_day_of_month            0\n",
       "stays_in_weekend_nights              0\n",
       "stays_in_week_nights                 0\n",
       "adults                               0\n",
       "children                             0\n",
       "babies                               0\n",
       "meal                                 0\n",
       "country                              8\n",
       "market_segment                       0\n",
       "distribution_channel                 0\n",
       "is_repeated_guest                    0\n",
       "previous_cancellations               0\n",
       "previous_bookings_not_canceled       0\n",
       "reserved_room_type                   0\n",
       "assigned_room_type                   0\n",
       "booking_changes                      0\n",
       "deposit_type                         0\n",
       "agent                             1529\n",
       "company                           9444\n",
       "days_in_waiting_list                 0\n",
       "customer_type                        0\n",
       "adr                                  0\n",
       "required_car_parking_spaces          0\n",
       "total_of_special_requests            0\n",
       "reservation_status                   0\n",
       "reservation_status_date              0\n",
       "dtype: int64"
      ]
     },
     "execution_count": 4,
     "metadata": {},
     "output_type": "execute_result"
    }
   ],
   "source": [
    "## we want to check if we have a null values or not\n",
    "pd.isna(dataset).sum()"
   ]
  },
  {
   "cell_type": "code",
   "execution_count": 5,
   "id": "c0f828d3",
   "metadata": {},
   "outputs": [
    {
     "name": "stdout",
     "output_type": "stream",
     "text": [
      "<class 'pandas.core.frame.DataFrame'>\n",
      "RangeIndex: 9999 entries, 0 to 9998\n",
      "Data columns (total 32 columns):\n",
      " #   Column                          Non-Null Count  Dtype  \n",
      "---  ------                          --------------  -----  \n",
      " 0   hotel                           9999 non-null   object \n",
      " 1   is_canceled                     9999 non-null   int64  \n",
      " 2   lead_time                       9999 non-null   int64  \n",
      " 3   arrival_date_year               9999 non-null   int64  \n",
      " 4   arrival_date_month              9999 non-null   object \n",
      " 5   arrival_date_week_number        9999 non-null   int64  \n",
      " 6   arrival_date_day_of_month       9999 non-null   int64  \n",
      " 7   stays_in_weekend_nights         9999 non-null   int64  \n",
      " 8   stays_in_week_nights            9999 non-null   int64  \n",
      " 9   adults                          9999 non-null   int64  \n",
      " 10  children                        9999 non-null   int64  \n",
      " 11  babies                          9999 non-null   int64  \n",
      " 12  meal                            9999 non-null   object \n",
      " 13  country                         9991 non-null   object \n",
      " 14  market_segment                  9999 non-null   object \n",
      " 15  distribution_channel            9999 non-null   object \n",
      " 16  is_repeated_guest               9999 non-null   int64  \n",
      " 17  previous_cancellations          9999 non-null   int64  \n",
      " 18  previous_bookings_not_canceled  9999 non-null   int64  \n",
      " 19  reserved_room_type              9999 non-null   object \n",
      " 20  assigned_room_type              9999 non-null   object \n",
      " 21  booking_changes                 9999 non-null   int64  \n",
      " 22  deposit_type                    9999 non-null   object \n",
      " 23  agent                           8470 non-null   float64\n",
      " 24  company                         555 non-null    float64\n",
      " 25  days_in_waiting_list            9999 non-null   int64  \n",
      " 26  customer_type                   9999 non-null   object \n",
      " 27  adr                             9999 non-null   float64\n",
      " 28  required_car_parking_spaces     9999 non-null   int64  \n",
      " 29  total_of_special_requests       9999 non-null   int64  \n",
      " 30  reservation_status              9999 non-null   object \n",
      " 31  reservation_status_date         9999 non-null   object \n",
      "dtypes: float64(3), int64(17), object(12)\n",
      "memory usage: 2.4+ MB\n"
     ]
    }
   ],
   "source": [
    "## we want to check if the datatypes is well?\n",
    "## and check if there any mistakes in the names of columns\n",
    "dataset.info()"
   ]
  },
  {
   "cell_type": "code",
   "execution_count": 6,
   "id": "a81de16a",
   "metadata": {},
   "outputs": [
    {
     "data": {
      "text/html": [
       "<div>\n",
       "<style scoped>\n",
       "    .dataframe tbody tr th:only-of-type {\n",
       "        vertical-align: middle;\n",
       "    }\n",
       "\n",
       "    .dataframe tbody tr th {\n",
       "        vertical-align: top;\n",
       "    }\n",
       "\n",
       "    .dataframe thead th {\n",
       "        text-align: right;\n",
       "    }\n",
       "</style>\n",
       "<table border=\"1\" class=\"dataframe\">\n",
       "  <thead>\n",
       "    <tr style=\"text-align: right;\">\n",
       "      <th></th>\n",
       "      <th>is_canceled</th>\n",
       "      <th>lead_time</th>\n",
       "      <th>arrival_date_year</th>\n",
       "      <th>arrival_date_week_number</th>\n",
       "      <th>arrival_date_day_of_month</th>\n",
       "      <th>stays_in_weekend_nights</th>\n",
       "      <th>stays_in_week_nights</th>\n",
       "      <th>adults</th>\n",
       "      <th>children</th>\n",
       "      <th>babies</th>\n",
       "      <th>is_repeated_guest</th>\n",
       "      <th>previous_cancellations</th>\n",
       "      <th>previous_bookings_not_canceled</th>\n",
       "      <th>booking_changes</th>\n",
       "      <th>agent</th>\n",
       "      <th>company</th>\n",
       "      <th>days_in_waiting_list</th>\n",
       "      <th>adr</th>\n",
       "      <th>required_car_parking_spaces</th>\n",
       "      <th>total_of_special_requests</th>\n",
       "    </tr>\n",
       "  </thead>\n",
       "  <tbody>\n",
       "    <tr>\n",
       "      <th>count</th>\n",
       "      <td>9999.000000</td>\n",
       "      <td>9999.000000</td>\n",
       "      <td>9999.000000</td>\n",
       "      <td>9999.000000</td>\n",
       "      <td>9999.000000</td>\n",
       "      <td>9999.000000</td>\n",
       "      <td>9999.000000</td>\n",
       "      <td>9999.000000</td>\n",
       "      <td>9999.000000</td>\n",
       "      <td>9999.000000</td>\n",
       "      <td>9999.0</td>\n",
       "      <td>9999.0</td>\n",
       "      <td>9999.0</td>\n",
       "      <td>9999.000000</td>\n",
       "      <td>8470.000000</td>\n",
       "      <td>555.000000</td>\n",
       "      <td>9999.000000</td>\n",
       "      <td>9999.000000</td>\n",
       "      <td>9999.000000</td>\n",
       "      <td>9999.000000</td>\n",
       "    </tr>\n",
       "    <tr>\n",
       "      <th>mean</th>\n",
       "      <td>0.633363</td>\n",
       "      <td>114.782578</td>\n",
       "      <td>2015.648565</td>\n",
       "      <td>31.223622</td>\n",
       "      <td>15.866587</td>\n",
       "      <td>1.277328</td>\n",
       "      <td>3.369637</td>\n",
       "      <td>1.940994</td>\n",
       "      <td>0.130213</td>\n",
       "      <td>0.014701</td>\n",
       "      <td>0.0</td>\n",
       "      <td>0.0</td>\n",
       "      <td>0.0</td>\n",
       "      <td>0.237624</td>\n",
       "      <td>214.414876</td>\n",
       "      <td>234.385586</td>\n",
       "      <td>1.437744</td>\n",
       "      <td>93.310892</td>\n",
       "      <td>0.056106</td>\n",
       "      <td>0.513451</td>\n",
       "    </tr>\n",
       "    <tr>\n",
       "      <th>std</th>\n",
       "      <td>0.481910</td>\n",
       "      <td>97.088010</td>\n",
       "      <td>0.522265</td>\n",
       "      <td>13.004139</td>\n",
       "      <td>8.963419</td>\n",
       "      <td>1.154930</td>\n",
       "      <td>2.425234</td>\n",
       "      <td>1.141131</td>\n",
       "      <td>0.460096</td>\n",
       "      <td>0.122829</td>\n",
       "      <td>0.0</td>\n",
       "      <td>0.0</td>\n",
       "      <td>0.0</td>\n",
       "      <td>0.674115</td>\n",
       "      <td>79.939480</td>\n",
       "      <td>82.722815</td>\n",
       "      <td>12.275986</td>\n",
       "      <td>54.948639</td>\n",
       "      <td>0.231869</td>\n",
       "      <td>0.780459</td>\n",
       "    </tr>\n",
       "    <tr>\n",
       "      <th>min</th>\n",
       "      <td>0.000000</td>\n",
       "      <td>0.000000</td>\n",
       "      <td>2015.000000</td>\n",
       "      <td>1.000000</td>\n",
       "      <td>1.000000</td>\n",
       "      <td>0.000000</td>\n",
       "      <td>0.000000</td>\n",
       "      <td>0.000000</td>\n",
       "      <td>0.000000</td>\n",
       "      <td>0.000000</td>\n",
       "      <td>0.0</td>\n",
       "      <td>0.0</td>\n",
       "      <td>0.0</td>\n",
       "      <td>0.000000</td>\n",
       "      <td>1.000000</td>\n",
       "      <td>9.000000</td>\n",
       "      <td>0.000000</td>\n",
       "      <td>0.000000</td>\n",
       "      <td>0.000000</td>\n",
       "      <td>0.000000</td>\n",
       "    </tr>\n",
       "    <tr>\n",
       "      <th>25%</th>\n",
       "      <td>0.000000</td>\n",
       "      <td>37.000000</td>\n",
       "      <td>2015.000000</td>\n",
       "      <td>21.000000</td>\n",
       "      <td>8.000000</td>\n",
       "      <td>0.000000</td>\n",
       "      <td>2.000000</td>\n",
       "      <td>2.000000</td>\n",
       "      <td>0.000000</td>\n",
       "      <td>0.000000</td>\n",
       "      <td>0.0</td>\n",
       "      <td>0.0</td>\n",
       "      <td>0.0</td>\n",
       "      <td>0.000000</td>\n",
       "      <td>240.000000</td>\n",
       "      <td>223.000000</td>\n",
       "      <td>0.000000</td>\n",
       "      <td>55.000000</td>\n",
       "      <td>0.000000</td>\n",
       "      <td>0.000000</td>\n",
       "    </tr>\n",
       "    <tr>\n",
       "      <th>50%</th>\n",
       "      <td>1.000000</td>\n",
       "      <td>90.000000</td>\n",
       "      <td>2016.000000</td>\n",
       "      <td>33.000000</td>\n",
       "      <td>16.000000</td>\n",
       "      <td>1.000000</td>\n",
       "      <td>3.000000</td>\n",
       "      <td>2.000000</td>\n",
       "      <td>0.000000</td>\n",
       "      <td>0.000000</td>\n",
       "      <td>0.0</td>\n",
       "      <td>0.0</td>\n",
       "      <td>0.0</td>\n",
       "      <td>0.000000</td>\n",
       "      <td>240.000000</td>\n",
       "      <td>223.000000</td>\n",
       "      <td>0.000000</td>\n",
       "      <td>77.850000</td>\n",
       "      <td>0.000000</td>\n",
       "      <td>0.000000</td>\n",
       "    </tr>\n",
       "    <tr>\n",
       "      <th>75%</th>\n",
       "      <td>1.000000</td>\n",
       "      <td>169.000000</td>\n",
       "      <td>2016.000000</td>\n",
       "      <td>41.000000</td>\n",
       "      <td>24.000000</td>\n",
       "      <td>2.000000</td>\n",
       "      <td>5.000000</td>\n",
       "      <td>2.000000</td>\n",
       "      <td>0.000000</td>\n",
       "      <td>0.000000</td>\n",
       "      <td>0.0</td>\n",
       "      <td>0.0</td>\n",
       "      <td>0.0</td>\n",
       "      <td>0.000000</td>\n",
       "      <td>241.000000</td>\n",
       "      <td>281.000000</td>\n",
       "      <td>0.000000</td>\n",
       "      <td>120.285000</td>\n",
       "      <td>0.000000</td>\n",
       "      <td>1.000000</td>\n",
       "    </tr>\n",
       "    <tr>\n",
       "      <th>max</th>\n",
       "      <td>1.000000</td>\n",
       "      <td>737.000000</td>\n",
       "      <td>2017.000000</td>\n",
       "      <td>53.000000</td>\n",
       "      <td>31.000000</td>\n",
       "      <td>16.000000</td>\n",
       "      <td>40.000000</td>\n",
       "      <td>55.000000</td>\n",
       "      <td>10.000000</td>\n",
       "      <td>2.000000</td>\n",
       "      <td>0.0</td>\n",
       "      <td>0.0</td>\n",
       "      <td>0.0</td>\n",
       "      <td>17.000000</td>\n",
       "      <td>481.000000</td>\n",
       "      <td>504.000000</td>\n",
       "      <td>150.000000</td>\n",
       "      <td>384.000000</td>\n",
       "      <td>2.000000</td>\n",
       "      <td>5.000000</td>\n",
       "    </tr>\n",
       "  </tbody>\n",
       "</table>\n",
       "</div>"
      ],
      "text/plain": [
       "       is_canceled    lead_time  arrival_date_year  arrival_date_week_number  \\\n",
       "count  9999.000000  9999.000000        9999.000000               9999.000000   \n",
       "mean      0.633363   114.782578        2015.648565                 31.223622   \n",
       "std       0.481910    97.088010           0.522265                 13.004139   \n",
       "min       0.000000     0.000000        2015.000000                  1.000000   \n",
       "25%       0.000000    37.000000        2015.000000                 21.000000   \n",
       "50%       1.000000    90.000000        2016.000000                 33.000000   \n",
       "75%       1.000000   169.000000        2016.000000                 41.000000   \n",
       "max       1.000000   737.000000        2017.000000                 53.000000   \n",
       "\n",
       "       arrival_date_day_of_month  stays_in_weekend_nights  \\\n",
       "count                9999.000000              9999.000000   \n",
       "mean                   15.866587                 1.277328   \n",
       "std                     8.963419                 1.154930   \n",
       "min                     1.000000                 0.000000   \n",
       "25%                     8.000000                 0.000000   \n",
       "50%                    16.000000                 1.000000   \n",
       "75%                    24.000000                 2.000000   \n",
       "max                    31.000000                16.000000   \n",
       "\n",
       "       stays_in_week_nights       adults     children       babies  \\\n",
       "count           9999.000000  9999.000000  9999.000000  9999.000000   \n",
       "mean               3.369637     1.940994     0.130213     0.014701   \n",
       "std                2.425234     1.141131     0.460096     0.122829   \n",
       "min                0.000000     0.000000     0.000000     0.000000   \n",
       "25%                2.000000     2.000000     0.000000     0.000000   \n",
       "50%                3.000000     2.000000     0.000000     0.000000   \n",
       "75%                5.000000     2.000000     0.000000     0.000000   \n",
       "max               40.000000    55.000000    10.000000     2.000000   \n",
       "\n",
       "       is_repeated_guest  previous_cancellations  \\\n",
       "count             9999.0                  9999.0   \n",
       "mean                 0.0                     0.0   \n",
       "std                  0.0                     0.0   \n",
       "min                  0.0                     0.0   \n",
       "25%                  0.0                     0.0   \n",
       "50%                  0.0                     0.0   \n",
       "75%                  0.0                     0.0   \n",
       "max                  0.0                     0.0   \n",
       "\n",
       "       previous_bookings_not_canceled  booking_changes        agent  \\\n",
       "count                          9999.0      9999.000000  8470.000000   \n",
       "mean                              0.0         0.237624   214.414876   \n",
       "std                               0.0         0.674115    79.939480   \n",
       "min                               0.0         0.000000     1.000000   \n",
       "25%                               0.0         0.000000   240.000000   \n",
       "50%                               0.0         0.000000   240.000000   \n",
       "75%                               0.0         0.000000   241.000000   \n",
       "max                               0.0        17.000000   481.000000   \n",
       "\n",
       "          company  days_in_waiting_list          adr  \\\n",
       "count  555.000000           9999.000000  9999.000000   \n",
       "mean   234.385586              1.437744    93.310892   \n",
       "std     82.722815             12.275986    54.948639   \n",
       "min      9.000000              0.000000     0.000000   \n",
       "25%    223.000000              0.000000    55.000000   \n",
       "50%    223.000000              0.000000    77.850000   \n",
       "75%    281.000000              0.000000   120.285000   \n",
       "max    504.000000            150.000000   384.000000   \n",
       "\n",
       "       required_car_parking_spaces  total_of_special_requests  \n",
       "count                  9999.000000                9999.000000  \n",
       "mean                      0.056106                   0.513451  \n",
       "std                       0.231869                   0.780459  \n",
       "min                       0.000000                   0.000000  \n",
       "25%                       0.000000                   0.000000  \n",
       "50%                       0.000000                   0.000000  \n",
       "75%                       0.000000                   1.000000  \n",
       "max                       2.000000                   5.000000  "
      ]
     },
     "execution_count": 6,
     "metadata": {},
     "output_type": "execute_result"
    }
   ],
   "source": [
    "## from the min of 'Age' = -1, We can notice that there is an error, and it will be fixed in the next steps\n",
    "dataset.describe()"
   ]
  },
  {
   "cell_type": "markdown",
   "id": "3aa2fba6",
   "metadata": {},
   "source": [
    "### Data Cleaning (Here we will fix the mistakes we saw it from pervious steps)"
   ]
  },
  {
   "cell_type": "markdown",
   "id": "2a78f212",
   "metadata": {},
   "source": [
    "## Drop some not necessary columns and filling NaN values with most frequent values"
   ]
  },
  {
   "cell_type": "code",
   "execution_count": 7,
   "id": "74439468",
   "metadata": {},
   "outputs": [],
   "source": [
    "dataset=dataset.drop('is_canceled', axis='columns')\n",
    "dataset=dataset.drop('lead_time', axis='columns')\n",
    "dataset=dataset.drop('stays_in_weekend_nights', axis='columns')\n",
    "dataset=dataset.drop('stays_in_week_nights', axis='columns')\n",
    "dataset=dataset.drop('adults', axis='columns')\n",
    "dataset=dataset.drop('children', axis='columns')\n",
    "dataset=dataset.drop('company', axis='columns')\n",
    "dataset=dataset.drop('is_repeated_guest', axis='columns')\n",
    "dataset=dataset.drop('previous_cancellations', axis='columns')\n",
    "dataset = dataset.apply(lambda x: x.fillna(x.value_counts().index[0]))\n",
    "dataset2 = dataset"
   ]
  },
  {
   "cell_type": "markdown",
   "id": "6f02ebe3",
   "metadata": {},
   "source": [
    "## Convert column values to numbers instead of categories to facilitate data handling"
   ]
  },
  {
   "cell_type": "code",
   "execution_count": 8,
   "id": "009c9067",
   "metadata": {},
   "outputs": [],
   "source": [
    "dataset['arrival_date_month'] = dataset['arrival_date_month'].replace({\n",
    "    'January':1,\n",
    "    'February':2,\n",
    "    'March':3,\n",
    "    'April':4,\n",
    "    'May':5,\n",
    "    'June':6,\n",
    "    'July':7,\n",
    "    'August':8,\n",
    "    'September':9,\n",
    "    'October':10,\n",
    "    'November':11,\n",
    "    'December':12\n",
    "})"
   ]
  },
  {
   "cell_type": "code",
   "execution_count": 9,
   "id": "2f3b352b",
   "metadata": {},
   "outputs": [
    {
     "data": {
      "text/html": [
       "<div>\n",
       "<style scoped>\n",
       "    .dataframe tbody tr th:only-of-type {\n",
       "        vertical-align: middle;\n",
       "    }\n",
       "\n",
       "    .dataframe tbody tr th {\n",
       "        vertical-align: top;\n",
       "    }\n",
       "\n",
       "    .dataframe thead th {\n",
       "        text-align: right;\n",
       "    }\n",
       "</style>\n",
       "<table border=\"1\" class=\"dataframe\">\n",
       "  <thead>\n",
       "    <tr style=\"text-align: right;\">\n",
       "      <th></th>\n",
       "      <th>hotel</th>\n",
       "      <th>arrival_date_year</th>\n",
       "      <th>arrival_date_month</th>\n",
       "      <th>arrival_date_week_number</th>\n",
       "      <th>arrival_date_day_of_month</th>\n",
       "      <th>babies</th>\n",
       "      <th>meal</th>\n",
       "      <th>country</th>\n",
       "      <th>market_segment</th>\n",
       "      <th>distribution_channel</th>\n",
       "      <th>...</th>\n",
       "      <th>booking_changes</th>\n",
       "      <th>deposit_type</th>\n",
       "      <th>agent</th>\n",
       "      <th>days_in_waiting_list</th>\n",
       "      <th>customer_type</th>\n",
       "      <th>adr</th>\n",
       "      <th>required_car_parking_spaces</th>\n",
       "      <th>total_of_special_requests</th>\n",
       "      <th>reservation_status</th>\n",
       "      <th>reservation_status_date</th>\n",
       "    </tr>\n",
       "  </thead>\n",
       "  <tbody>\n",
       "    <tr>\n",
       "      <th>0</th>\n",
       "      <td>Resort Hotel</td>\n",
       "      <td>2015</td>\n",
       "      <td>7</td>\n",
       "      <td>27</td>\n",
       "      <td>1</td>\n",
       "      <td>0</td>\n",
       "      <td>BB</td>\n",
       "      <td>PRT</td>\n",
       "      <td>Direct</td>\n",
       "      <td>Direct</td>\n",
       "      <td>...</td>\n",
       "      <td>3</td>\n",
       "      <td>No Deposit</td>\n",
       "      <td>240.0</td>\n",
       "      <td>0</td>\n",
       "      <td>Transient</td>\n",
       "      <td>0.0</td>\n",
       "      <td>0</td>\n",
       "      <td>0</td>\n",
       "      <td>Check-Out</td>\n",
       "      <td>7/1/2015</td>\n",
       "    </tr>\n",
       "    <tr>\n",
       "      <th>1</th>\n",
       "      <td>Resort Hotel</td>\n",
       "      <td>2015</td>\n",
       "      <td>7</td>\n",
       "      <td>27</td>\n",
       "      <td>1</td>\n",
       "      <td>0</td>\n",
       "      <td>BB</td>\n",
       "      <td>PRT</td>\n",
       "      <td>Direct</td>\n",
       "      <td>Direct</td>\n",
       "      <td>...</td>\n",
       "      <td>4</td>\n",
       "      <td>No Deposit</td>\n",
       "      <td>240.0</td>\n",
       "      <td>0</td>\n",
       "      <td>Transient</td>\n",
       "      <td>0.0</td>\n",
       "      <td>0</td>\n",
       "      <td>0</td>\n",
       "      <td>Check-Out</td>\n",
       "      <td>7/1/2015</td>\n",
       "    </tr>\n",
       "    <tr>\n",
       "      <th>2</th>\n",
       "      <td>Resort Hotel</td>\n",
       "      <td>2015</td>\n",
       "      <td>7</td>\n",
       "      <td>27</td>\n",
       "      <td>1</td>\n",
       "      <td>0</td>\n",
       "      <td>BB</td>\n",
       "      <td>GBR</td>\n",
       "      <td>Direct</td>\n",
       "      <td>Direct</td>\n",
       "      <td>...</td>\n",
       "      <td>0</td>\n",
       "      <td>No Deposit</td>\n",
       "      <td>240.0</td>\n",
       "      <td>0</td>\n",
       "      <td>Transient</td>\n",
       "      <td>75.0</td>\n",
       "      <td>0</td>\n",
       "      <td>0</td>\n",
       "      <td>Check-Out</td>\n",
       "      <td>7/2/2015</td>\n",
       "    </tr>\n",
       "    <tr>\n",
       "      <th>3</th>\n",
       "      <td>Resort Hotel</td>\n",
       "      <td>2015</td>\n",
       "      <td>7</td>\n",
       "      <td>27</td>\n",
       "      <td>1</td>\n",
       "      <td>0</td>\n",
       "      <td>BB</td>\n",
       "      <td>GBR</td>\n",
       "      <td>Corporate</td>\n",
       "      <td>Corporate</td>\n",
       "      <td>...</td>\n",
       "      <td>0</td>\n",
       "      <td>No Deposit</td>\n",
       "      <td>304.0</td>\n",
       "      <td>0</td>\n",
       "      <td>Transient</td>\n",
       "      <td>75.0</td>\n",
       "      <td>0</td>\n",
       "      <td>0</td>\n",
       "      <td>Check-Out</td>\n",
       "      <td>7/2/2015</td>\n",
       "    </tr>\n",
       "    <tr>\n",
       "      <th>4</th>\n",
       "      <td>Resort Hotel</td>\n",
       "      <td>2015</td>\n",
       "      <td>7</td>\n",
       "      <td>27</td>\n",
       "      <td>1</td>\n",
       "      <td>0</td>\n",
       "      <td>BB</td>\n",
       "      <td>GBR</td>\n",
       "      <td>Online TA</td>\n",
       "      <td>TA/TO</td>\n",
       "      <td>...</td>\n",
       "      <td>0</td>\n",
       "      <td>No Deposit</td>\n",
       "      <td>240.0</td>\n",
       "      <td>0</td>\n",
       "      <td>Transient</td>\n",
       "      <td>98.0</td>\n",
       "      <td>0</td>\n",
       "      <td>1</td>\n",
       "      <td>Check-Out</td>\n",
       "      <td>7/3/2015</td>\n",
       "    </tr>\n",
       "    <tr>\n",
       "      <th>...</th>\n",
       "      <td>...</td>\n",
       "      <td>...</td>\n",
       "      <td>...</td>\n",
       "      <td>...</td>\n",
       "      <td>...</td>\n",
       "      <td>...</td>\n",
       "      <td>...</td>\n",
       "      <td>...</td>\n",
       "      <td>...</td>\n",
       "      <td>...</td>\n",
       "      <td>...</td>\n",
       "      <td>...</td>\n",
       "      <td>...</td>\n",
       "      <td>...</td>\n",
       "      <td>...</td>\n",
       "      <td>...</td>\n",
       "      <td>...</td>\n",
       "      <td>...</td>\n",
       "      <td>...</td>\n",
       "      <td>...</td>\n",
       "      <td>...</td>\n",
       "    </tr>\n",
       "    <tr>\n",
       "      <th>995</th>\n",
       "      <td>Resort Hotel</td>\n",
       "      <td>2015</td>\n",
       "      <td>8</td>\n",
       "      <td>33</td>\n",
       "      <td>9</td>\n",
       "      <td>0</td>\n",
       "      <td>HB</td>\n",
       "      <td>PRT</td>\n",
       "      <td>Online TA</td>\n",
       "      <td>TA/TO</td>\n",
       "      <td>...</td>\n",
       "      <td>0</td>\n",
       "      <td>No Deposit</td>\n",
       "      <td>240.0</td>\n",
       "      <td>0</td>\n",
       "      <td>Transient</td>\n",
       "      <td>166.0</td>\n",
       "      <td>0</td>\n",
       "      <td>2</td>\n",
       "      <td>Canceled</td>\n",
       "      <td>5/27/2015</td>\n",
       "    </tr>\n",
       "    <tr>\n",
       "      <th>996</th>\n",
       "      <td>Resort Hotel</td>\n",
       "      <td>2015</td>\n",
       "      <td>8</td>\n",
       "      <td>33</td>\n",
       "      <td>9</td>\n",
       "      <td>0</td>\n",
       "      <td>BB</td>\n",
       "      <td>PRT</td>\n",
       "      <td>Online TA</td>\n",
       "      <td>TA/TO</td>\n",
       "      <td>...</td>\n",
       "      <td>0</td>\n",
       "      <td>No Deposit</td>\n",
       "      <td>240.0</td>\n",
       "      <td>0</td>\n",
       "      <td>Transient</td>\n",
       "      <td>202.0</td>\n",
       "      <td>0</td>\n",
       "      <td>2</td>\n",
       "      <td>Canceled</td>\n",
       "      <td>7/17/2015</td>\n",
       "    </tr>\n",
       "    <tr>\n",
       "      <th>997</th>\n",
       "      <td>Resort Hotel</td>\n",
       "      <td>2015</td>\n",
       "      <td>8</td>\n",
       "      <td>33</td>\n",
       "      <td>9</td>\n",
       "      <td>0</td>\n",
       "      <td>BB</td>\n",
       "      <td>PRT</td>\n",
       "      <td>Online TA</td>\n",
       "      <td>TA/TO</td>\n",
       "      <td>...</td>\n",
       "      <td>0</td>\n",
       "      <td>No Deposit</td>\n",
       "      <td>240.0</td>\n",
       "      <td>0</td>\n",
       "      <td>Transient</td>\n",
       "      <td>172.0</td>\n",
       "      <td>0</td>\n",
       "      <td>2</td>\n",
       "      <td>Canceled</td>\n",
       "      <td>7/17/2015</td>\n",
       "    </tr>\n",
       "    <tr>\n",
       "      <th>998</th>\n",
       "      <td>Resort Hotel</td>\n",
       "      <td>2015</td>\n",
       "      <td>8</td>\n",
       "      <td>33</td>\n",
       "      <td>9</td>\n",
       "      <td>1</td>\n",
       "      <td>FB</td>\n",
       "      <td>ESP</td>\n",
       "      <td>Direct</td>\n",
       "      <td>Direct</td>\n",
       "      <td>...</td>\n",
       "      <td>0</td>\n",
       "      <td>No Deposit</td>\n",
       "      <td>250.0</td>\n",
       "      <td>0</td>\n",
       "      <td>Transient</td>\n",
       "      <td>277.0</td>\n",
       "      <td>1</td>\n",
       "      <td>1</td>\n",
       "      <td>Check-Out</td>\n",
       "      <td>8/15/2015</td>\n",
       "    </tr>\n",
       "    <tr>\n",
       "      <th>999</th>\n",
       "      <td>Resort Hotel</td>\n",
       "      <td>2015</td>\n",
       "      <td>8</td>\n",
       "      <td>33</td>\n",
       "      <td>9</td>\n",
       "      <td>0</td>\n",
       "      <td>BB</td>\n",
       "      <td>GBR</td>\n",
       "      <td>Offline TA/TO</td>\n",
       "      <td>TA/TO</td>\n",
       "      <td>...</td>\n",
       "      <td>0</td>\n",
       "      <td>No Deposit</td>\n",
       "      <td>243.0</td>\n",
       "      <td>0</td>\n",
       "      <td>Transient</td>\n",
       "      <td>104.0</td>\n",
       "      <td>0</td>\n",
       "      <td>0</td>\n",
       "      <td>Check-Out</td>\n",
       "      <td>8/16/2015</td>\n",
       "    </tr>\n",
       "  </tbody>\n",
       "</table>\n",
       "<p>1000 rows × 23 columns</p>\n",
       "</div>"
      ],
      "text/plain": [
       "            hotel  arrival_date_year  arrival_date_month  \\\n",
       "0    Resort Hotel               2015                   7   \n",
       "1    Resort Hotel               2015                   7   \n",
       "2    Resort Hotel               2015                   7   \n",
       "3    Resort Hotel               2015                   7   \n",
       "4    Resort Hotel               2015                   7   \n",
       "..            ...                ...                 ...   \n",
       "995  Resort Hotel               2015                   8   \n",
       "996  Resort Hotel               2015                   8   \n",
       "997  Resort Hotel               2015                   8   \n",
       "998  Resort Hotel               2015                   8   \n",
       "999  Resort Hotel               2015                   8   \n",
       "\n",
       "     arrival_date_week_number  arrival_date_day_of_month  babies meal country  \\\n",
       "0                          27                          1       0   BB     PRT   \n",
       "1                          27                          1       0   BB     PRT   \n",
       "2                          27                          1       0   BB     GBR   \n",
       "3                          27                          1       0   BB     GBR   \n",
       "4                          27                          1       0   BB     GBR   \n",
       "..                        ...                        ...     ...  ...     ...   \n",
       "995                        33                          9       0   HB     PRT   \n",
       "996                        33                          9       0   BB     PRT   \n",
       "997                        33                          9       0   BB     PRT   \n",
       "998                        33                          9       1   FB     ESP   \n",
       "999                        33                          9       0   BB     GBR   \n",
       "\n",
       "    market_segment distribution_channel  ...  booking_changes deposit_type  \\\n",
       "0           Direct               Direct  ...                3   No Deposit   \n",
       "1           Direct               Direct  ...                4   No Deposit   \n",
       "2           Direct               Direct  ...                0   No Deposit   \n",
       "3        Corporate            Corporate  ...                0   No Deposit   \n",
       "4        Online TA                TA/TO  ...                0   No Deposit   \n",
       "..             ...                  ...  ...              ...          ...   \n",
       "995      Online TA                TA/TO  ...                0   No Deposit   \n",
       "996      Online TA                TA/TO  ...                0   No Deposit   \n",
       "997      Online TA                TA/TO  ...                0   No Deposit   \n",
       "998         Direct               Direct  ...                0   No Deposit   \n",
       "999  Offline TA/TO                TA/TO  ...                0   No Deposit   \n",
       "\n",
       "     agent  days_in_waiting_list customer_type    adr  \\\n",
       "0    240.0                     0     Transient    0.0   \n",
       "1    240.0                     0     Transient    0.0   \n",
       "2    240.0                     0     Transient   75.0   \n",
       "3    304.0                     0     Transient   75.0   \n",
       "4    240.0                     0     Transient   98.0   \n",
       "..     ...                   ...           ...    ...   \n",
       "995  240.0                     0     Transient  166.0   \n",
       "996  240.0                     0     Transient  202.0   \n",
       "997  240.0                     0     Transient  172.0   \n",
       "998  250.0                     0     Transient  277.0   \n",
       "999  243.0                     0     Transient  104.0   \n",
       "\n",
       "     required_car_parking_spaces total_of_special_requests  \\\n",
       "0                              0                         0   \n",
       "1                              0                         0   \n",
       "2                              0                         0   \n",
       "3                              0                         0   \n",
       "4                              0                         1   \n",
       "..                           ...                       ...   \n",
       "995                            0                         2   \n",
       "996                            0                         2   \n",
       "997                            0                         2   \n",
       "998                            1                         1   \n",
       "999                            0                         0   \n",
       "\n",
       "     reservation_status  reservation_status_date  \n",
       "0             Check-Out                 7/1/2015  \n",
       "1             Check-Out                 7/1/2015  \n",
       "2             Check-Out                 7/2/2015  \n",
       "3             Check-Out                 7/2/2015  \n",
       "4             Check-Out                 7/3/2015  \n",
       "..                  ...                      ...  \n",
       "995            Canceled                5/27/2015  \n",
       "996            Canceled                7/17/2015  \n",
       "997            Canceled                7/17/2015  \n",
       "998           Check-Out                8/15/2015  \n",
       "999           Check-Out                8/16/2015  \n",
       "\n",
       "[1000 rows x 23 columns]"
      ]
     },
     "execution_count": 9,
     "metadata": {},
     "output_type": "execute_result"
    }
   ],
   "source": [
    "dataset.head(1000)"
   ]
  },
  {
   "cell_type": "markdown",
   "id": "b1f42ad3",
   "metadata": {},
   "source": [
    "<a id='ExploratoryDataAnalysis'></a>\n",
    "## Exploratory Data Analysis"
   ]
  },
  {
   "cell_type": "markdown",
   "id": "db1f0279",
   "metadata": {},
   "source": [
    "## Questions :\n",
    "### Research Q. 1) What type of customer is the most?\n",
    "#### ( Here will we see ype of customer, Transient or Contract or Transient-Party or Group )"
   ]
  },
  {
   "cell_type": "markdown",
   "id": "82427499",
   "metadata": {},
   "source": [
    "#### Here we will create two data set, one for Transient, and one for Contract:"
   ]
  },
  {
   "cell_type": "code",
   "execution_count": 10,
   "id": "6f926b53",
   "metadata": {
    "scrolled": true
   },
   "outputs": [],
   "source": [
    "Transient = dataset2.query('customer_type  == \"Transient\"')"
   ]
  },
  {
   "cell_type": "code",
   "execution_count": 11,
   "id": "b3542d33",
   "metadata": {},
   "outputs": [],
   "source": [
    "Contract = dataset2.query('customer_type  == \"Contract\"')"
   ]
  },
  {
   "cell_type": "code",
   "execution_count": 12,
   "id": "86244011",
   "metadata": {},
   "outputs": [],
   "source": [
    "Transient_Party = dataset2.query('customer_type  == \"Transient-Party\"')"
   ]
  },
  {
   "cell_type": "code",
   "execution_count": 13,
   "id": "1175b647",
   "metadata": {},
   "outputs": [],
   "source": [
    "Group = dataset2.query('customer_type  == \"Group\"')"
   ]
  },
  {
   "cell_type": "markdown",
   "id": "2417901e",
   "metadata": {},
   "source": [
    "#### Here we will see the number of Transient and Contract and Transient-Party and Group:"
   ]
  },
  {
   "cell_type": "code",
   "execution_count": 14,
   "id": "e24e806f",
   "metadata": {},
   "outputs": [
    {
     "data": {
      "text/plain": [
       "7459"
      ]
     },
     "execution_count": 14,
     "metadata": {},
     "output_type": "execute_result"
    }
   ],
   "source": [
    "len(Transient)"
   ]
  },
  {
   "cell_type": "code",
   "execution_count": 15,
   "id": "9317bd00",
   "metadata": {},
   "outputs": [
    {
     "data": {
      "text/plain": [
       "331"
      ]
     },
     "execution_count": 15,
     "metadata": {},
     "output_type": "execute_result"
    }
   ],
   "source": [
    "len(Contract)"
   ]
  },
  {
   "cell_type": "code",
   "execution_count": 16,
   "id": "5a6d1ac3",
   "metadata": {},
   "outputs": [
    {
     "data": {
      "text/plain": [
       "2181"
      ]
     },
     "execution_count": 16,
     "metadata": {},
     "output_type": "execute_result"
    }
   ],
   "source": [
    "len(Transient_Party)"
   ]
  },
  {
   "cell_type": "code",
   "execution_count": 17,
   "id": "c2308edf",
   "metadata": {},
   "outputs": [
    {
     "data": {
      "text/plain": [
       "28"
      ]
     },
     "execution_count": 17,
     "metadata": {},
     "output_type": "execute_result"
    }
   ],
   "source": [
    "len(Group)"
   ]
  },
  {
   "cell_type": "markdown",
   "id": "1a70029e",
   "metadata": {},
   "source": [
    "#### Now we will use pie chart to see each type of customer :"
   ]
  },
  {
   "cell_type": "code",
   "execution_count": 18,
   "id": "c88e5ef7",
   "metadata": {},
   "outputs": [
    {
     "data": {
      "image/png": "[encoded data removed]",
      "text/plain": [
       "<Figure size 360x360 with 1 Axes>"
      ]
     },
     "metadata": {},
     "output_type": "display_data"
    }
   ],
   "source": [
    "pie = pd.DataFrame({'mass': [len(Transient),  len(Contract), len(Transient_Party), len(Group)],\n",
    "                   'radius': [len(Transient),  len(Contract), len(Transient_Party), len(Group)]},\n",
    "                  index=['Transient', 'Contract', 'Transient_Party', 'Group'])\n",
    "plot = pie.plot.pie(y='mass', figsize=(5, 5))"
   ]
  },
  {
   "cell_type": "markdown",
   "id": "e3d2cc0d",
   "metadata": {},
   "source": [
    "#### The answer:"
   ]
  },
  {
   "cell_type": "code",
   "execution_count": 19,
   "id": "0f1dae13",
   "metadata": {
    "scrolled": true
   },
   "outputs": [
    {
     "name": "stdout",
     "output_type": "stream",
     "text": [
      "Customer Type: Transient\n"
     ]
    }
   ],
   "source": [
    "x = dataset2['customer_type'].value_counts().idxmax()\n",
    "print(\"Customer Type:\",x)"
   ]
  },
  {
   "cell_type": "markdown",
   "id": "032975e8",
   "metadata": {},
   "source": [
    "### 2) How many reservations are from USA?\n",
    "#### ( Here will we see the number of USA reservations )"
   ]
  },
  {
   "cell_type": "markdown",
   "id": "c8ff06c9",
   "metadata": {},
   "source": [
    "#### Now we will use bar chart to see many reservations are from USA:"
   ]
  },
  {
   "cell_type": "code",
   "execution_count": 20,
   "id": "42ee342b",
   "metadata": {},
   "outputs": [],
   "source": [
    "USA = dataset2.query('country  == \"USA\"')"
   ]
  },
  {
   "cell_type": "code",
   "execution_count": 21,
   "id": "f267fab2",
   "metadata": {},
   "outputs": [
    {
     "data": {
      "image/png": "[encoded data removed]",
      "text/plain": [
       "<Figure size 432x288 with 1 Axes>"
      ]
     },
     "metadata": {
      "needs_background": "light"
     },
     "output_type": "display_data"
    }
   ],
   "source": [
    "plt.bar(\"USA\", len(USA))\n",
    "plt.title('How many reservations are from USA?')\n",
    "plt.ylabel('reservations from USA')\n",
    "plt.show()"
   ]
  },
  {
   "cell_type": "markdown",
   "id": "8d39e3c1",
   "metadata": {},
   "source": [
    "### We can see that the number of USA reservations is : 58"
   ]
  },
  {
   "cell_type": "markdown",
   "id": "4fb4d04a",
   "metadata": {},
   "source": [
    "#### The answer:"
   ]
  },
  {
   "cell_type": "code",
   "execution_count": 22,
   "id": "937a35f4",
   "metadata": {},
   "outputs": [
    {
     "name": "stdout",
     "output_type": "stream",
     "text": [
      "Number of USA reservations: 58\n"
     ]
    }
   ],
   "source": [
    "print(\"Number of USA reservations:\",len(USA))"
   ]
  },
  {
   "cell_type": "markdown",
   "id": "7ac1089c",
   "metadata": {},
   "source": [
    "### Research Q. 3) What year has the most reservations?\n",
    "#### ( Here will we see the year that has the most reservations )"
   ]
  },
  {
   "cell_type": "markdown",
   "id": "82fc4456",
   "metadata": {},
   "source": [
    "#### Now we will use pie chart to see the percentage of  each year:"
   ]
  },
  {
   "cell_type": "code",
   "execution_count": 23,
   "id": "dfbb2f92",
   "metadata": {},
   "outputs": [
    {
     "data": {
      "image/png": "[encoded data removed]",
      "text/plain": [
       "<Figure size 504x504 with 1 Axes>"
      ]
     },
     "metadata": {},
     "output_type": "display_data"
    }
   ],
   "source": [
    "dataset2['arrival_date_year'].value_counts().plot.pie(figsize=(7,7), autopct='%1.1f%%', fontsize = 12)\n",
    "plt.show()"
   ]
  },
  {
   "cell_type": "markdown",
   "id": "86ec82e4",
   "metadata": {},
   "source": [
    "### So, we can notice the percentage of 2016 is more than any year"
   ]
  },
  {
   "cell_type": "markdown",
   "id": "5c32f71c",
   "metadata": {},
   "source": [
    "#### The answer:"
   ]
  },
  {
   "cell_type": "code",
   "execution_count": 24,
   "id": "e0f1d0c4",
   "metadata": {},
   "outputs": [
    {
     "name": "stdout",
     "output_type": "stream",
     "text": [
      "The year has the most reservations: 2016\n"
     ]
    }
   ],
   "source": [
    "x = dataset2['arrival_date_year'].value_counts().idxmax()\n",
    "print(\"The year has the most reservations:\",x)"
   ]
  },
  {
   "cell_type": "markdown",
   "id": "951c0db2",
   "metadata": {},
   "source": [
    "<a id='Conclusions'></a>\n",
    "## Conclusions:\n",
    "#### 1-The data was able to answer all the questions accurately, which helps to get out of this data with results that help in understanding the characteristics of cars and the correlation of that with their prices.\n",
    "#### 2-By using pie chart we see the type of each customer and we found Transient is the most type.\n",
    "#### 3-We using bar chart to know how many reservations are from USA and the result was 58.\n",
    "#### 4-We used pie chart to see the percentage of each year to know what year has the most reservations and we noticed the percentage of 2016 is more than any year."
   ]
  },
  {
   "cell_type": "code",
   "execution_count": null,
   "id": "3fa2d3b4",
   "metadata": {},
   "outputs": [],
   "source": []
  }
 ],
 "metadata": {
  "kernelspec": {
   "display_name": "Python 3",
   "language": "python",
   "name": "python3"
  },
  "language_info": {
   "codemirror_mode": {
    "name": "ipython",
    "version": 3
   },
   "file_extension": ".py",
   "mimetype": "text/x-python",
   "name": "python",
   "nbconvert_exporter": "python",
   "pygments_lexer": "ipython3",
   "version": "3.8.8"
  }
 },
 "nbformat": 4,
 "nbformat_minor": 5
}
